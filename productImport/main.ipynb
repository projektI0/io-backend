{
 "cells": [
  {
   "cell_type": "code",
   "execution_count": 11,
   "metadata": {},
   "outputs": [],
   "source": [
    "from products import products\n",
    "app_id = \"???\"\n",
    "app_key = \"???\""
   ]
  },
  {
   "cell_type": "code",
   "execution_count": 13,
   "metadata": {},
   "outputs": [
    {
     "name": "stdout",
     "output_type": "stream",
     "text": [
      "egg\n",
      "bread\n",
      "fish\n",
      "chicken\n",
      "tofu\n"
     ]
    }
   ],
   "source": [
    "import requests\n",
    "\n",
    "with open(\"productImport.txt\", \"w+\") as file:\n",
    "    file.write(\"INSERT INTO PRODUCT (NAME, DESCRIPTION) VALUES\\n\")\n",
    "    for product in products:\n",
    "        url = f\"https://api.edamam.com/api/food-database/v2/parser?app_id={app_id}&app_key={app_key}&ingr={product}&nutrition-type=cooking\"\n",
    "        print(product)\n",
    "\n",
    "        headers = {\n",
    "        'Accept': 'application/json',\n",
    "        'Cookie': 'route=7c8acdbf037ebcb8c809cab94d5a241c'\n",
    "        }\n",
    "\n",
    "        response = requests.request(\"GET\", url, headers=headers)\n",
    "\n",
    "        import json\n",
    "        hints = (json.loads(response.text)['hints'])\n",
    "\n",
    "        for x in [f\"('{foodLabel}', '{foodLabel}')\" for foodLabel in [hint['food']['label'].replace('\\'', '\\'\\'') for hint in hints]]:\n",
    "            file.write(x +\",\\n\")"
   ]
  }
 ],
 "metadata": {
  "kernelspec": {
   "display_name": "base",
   "language": "python",
   "name": "python3"
  },
  "language_info": {
   "codemirror_mode": {
    "name": "ipython",
    "version": 3
   },
   "file_extension": ".py",
   "mimetype": "text/x-python",
   "name": "python",
   "nbconvert_exporter": "python",
   "pygments_lexer": "ipython3",
   "version": "3.9.12"
  },
  "orig_nbformat": 4
 },
 "nbformat": 4,
 "nbformat_minor": 2
}
